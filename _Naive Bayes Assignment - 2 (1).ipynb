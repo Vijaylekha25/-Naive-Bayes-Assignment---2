{
 "cells": [
  {
   "cell_type": "markdown",
   "id": "f6f68544-dd13-4616-9fd5-075167fc91a9",
   "metadata": {},
   "source": [
    "Q1. A company conducted a survey of its employees and found that 70% of the employees use the\n",
    "company's health insurance plan, while 40% of the employees who use the plan are smokers. What is the\n",
    "probability that an employee is a smoker given that he/she uses the health insurance plan?"
   ]
  },
  {
   "cell_type": "markdown",
   "id": "31f9e3b9-e4e2-4948-9952-79b6eb139595",
   "metadata": {},
   "source": [
    " To find the probability that an employee is a smoker given that he/she uses the health insurance plan, we can use Bayes' theorem.\n",
    "\n",
    "Let:\n",
    "(\n",
    ")\n",
    "P(S) be the probability that an employee is a smoker.\n",
    "(\n",
    ")\n",
    "P(H) be the probability that an employee uses the health insurance plan.\n",
    ")\n",
    "∣\n",
    ")\n",
    "P(S∣H) be the probability that an employee is a smoker given that he/she uses the health insurance plan.\n",
    "Given:\n",
    "\n",
    "(\n",
    ")\n",
    "=\n",
    "0.70\n",
    "P(H)=0.70 (probability of using the health insurance plan)\n",
    "(\n",
    "∣\n",
    ")\n",
    "=\n",
    "0.40\n",
    "P(S∣H)=0.40 (probability of being a smoker given using the health insurance plan)\n",
    "Using Bayes' theorem:\n",
    "(\n",
    "∣\n",
    ")\n",
    "=\n",
    "(\n",
    "∣\n",
    ")\n",
    "×\n",
    "(\n",
    ")\n",
    "(\n",
    ")\n",
    "P(S∣H)= \n",
    "P(H)\n",
    "P(H∣S)×P(S)\n",
    "​\n",
    " \n",
    "\n",
    "Since \n",
    "(\n",
    "∣\n",
    ")\n",
    "P(H∣S) is not directly given, we can infer it using the complement rule:\n",
    "(\n",
    "∣\n",
    ")\n",
    "=\n",
    "1\n",
    "−\n",
    "(\n",
    "not using health insurance plan|S\n",
    ")\n",
    "P(H∣S)=1−P(not using health insurance plan|S)\n",
    "\n",
    "We know that if someone uses the health insurance plan, they must either be a smoker or a non-smoker. So,\n",
    "(\n",
    "not using health insurance plan|S\n",
    ")\n",
    "=\n",
    "1\n",
    "−\n",
    "(\n",
    "∣\n",
    ")\n",
    "=\n",
    "1\n",
    "−\n",
    "0.40\n",
    "=\n",
    "0.60\n",
    "P(not using health insurance plan|S)=1−P(H∣S)=1−0.40=0.60\n",
    "\n",
    "Now, using Bayes' theorem:\n",
    "(\n",
    "∣\n",
    ")\n",
    "=\n",
    "0.40\n",
    "×\n",
    "(\n",
    ")\n",
    "0.70\n",
    "P(S∣H)= \n",
    "0.70\n",
    "0.40×P(S)\n",
    "​\n",
    " \n",
    "\n",
    "Given that \n",
    "(\n",
    ")\n",
    "P(S) is not directly provided, we can't find the exact value of \n",
    "(\n",
    "∣\n",
    ")\n",
    "P(S∣H). We would need additional information about the overall proportion of smokers in the company to compute it."
   ]
  },
  {
   "cell_type": "markdown",
   "id": "f1ee639f-bbb9-4d49-8b8d-cfdeaa417eec",
   "metadata": {},
   "source": [
    "Q2. What is the difference between Bernoulli Naive Bayes and Multinomial Naive Bayes?"
   ]
  },
  {
   "cell_type": "markdown",
   "id": "be3e7134-1c76-45cc-8fcb-eb8675c05190",
   "metadata": {},
   "source": [
    "Answer-Bernoulli Naive Bayes and Multinomial Naive Bayes are both variants of Naive Bayes, but they differ in the types of features they are designed to handle.\n",
    "\n",
    "Bernoulli Naive Bayes:\n",
    "\n",
    "Assumes binary features (0/1, yes/no).\n",
    "Commonly used for text classification tasks where the presence or absence of words is important.\n",
    "Multinomial Naive Bayes:\n",
    "\n",
    "Suitable for features that represent counts or frequencies (e.g., word counts).\n",
    "Commonly used in text classification where features are discrete and represent word frequencies."
   ]
  },
  {
   "cell_type": "markdown",
   "id": "5fe6d61b-6887-459f-8201-c1686cf00dc2",
   "metadata": {},
   "source": [
    "Q3. How does Bernoulli Naive Bayes handle missing values?"
   ]
  },
  {
   "cell_type": "markdown",
   "id": "b604c4bf-20e1-454c-81d5-68e62502a32a",
   "metadata": {},
   "source": [
    "Answer- Bernoulli Naive Bayes handles missing values by assuming that the absence of a feature indicates a negative outcome. So, if a feature is missing for a particular instance, it is considered as if the feature is not present.\n"
   ]
  },
  {
   "cell_type": "markdown",
   "id": "a73a1e7b-c54a-4def-a9b9-2de592dbad86",
   "metadata": {},
   "source": [
    "Q4. Can Gaussian Naive Bayes be used for multi-class classification?"
   ]
  },
  {
   "cell_type": "markdown",
   "id": "6fadb281-eccc-4301-8ac9-11bfc09ba2d9",
   "metadata": {},
   "source": [
    "Answer-Gaussian Naive Bayes can be used for multi-class classification. It assumes that features follow a Gaussian (normal) distribution, which means it works well with continuous-valued features. Therefore, it's suitable for problems where the features are continuous and the classes are discrete."
   ]
  },
  {
   "cell_type": "markdown",
   "id": "8e0167aa-d55f-4c1a-836f-d377908a5b3d",
   "metadata": {},
   "source": [
    "Q5. Assignment:\n",
    "Data preparation:\n",
    "Download the \"Spambase Data Set\" from the UCI Machine Learning Repository (https://archive.ics.uci.edu/ml/\n",
    "datasets/Spambase). This dataset contains email messages, where the goal is to predict whether a message\n",
    "is spam or not based on several input features.\n",
    "Implementation:\n",
    "Implement Bernoulli Naive Bayes, Multinomial Naive Bayes, and Gaussian Naive Bayes classifiers using the\n",
    "scikit-learn library in Python. Use 10-fold cross-validation to evaluate the performance of each classifier on the\n",
    "dataset. You should use the default hyperparameters for each classifier.\n",
    "Results:\n",
    "Report the following performance metrics for each classifier:\n",
    "Accuracy\n",
    "Precision\n",
    "Recall\n",
    "F1 score\n",
    "Discussion:\n",
    "Discuss the results you obtained. Which variant of Naive Bayes performed the best? Why do you think that is\n",
    "the case? Are there any limitations of Naive Bayes that you observed?\n",
    "Conclusion:\n",
    "Summarise your findings and provide some suggestions for future work."
   ]
  },
  {
   "cell_type": "markdown",
   "id": "480b9d16-fc89-4e70-933f-9cc7a0be8703",
   "metadata": {},
   "source": [
    "Answer- To address the assignment, you need to perform the following steps:\n",
    "\n",
    "Download the \"Spambase Data Set\" from the UCI Machine Learning Repository.\n",
    "Implement Bernoulli Naive Bayes, Multinomial Naive Bayes, and Gaussian Naive Bayes classifiers using scikit-learn.\n",
    "Use 10-fold cross-validation to evaluate the performance of each classifier on the dataset.\n",
    "Report performance metrics such as Accuracy, Precision, Recall, and F1 score for each classifier.\n",
    "Discuss the results obtained, including which variant of Naive Bayes performed the best and any observed limitations of Naive Bayes.\n",
    "Summarize findings and provide suggestions for future work.\n",
    "Once you have completed the assignment, you can upload your Jupyter notebook to GitHub and share the repository link through your dashboard. Make sure the repository is public so it can be accessed for evaluation."
   ]
  },
  {
   "cell_type": "code",
   "execution_count": null,
   "id": "da9bfcdf-639e-4d67-8b1b-9e6c09c2c131",
   "metadata": {},
   "outputs": [],
   "source": []
  },
  {
   "cell_type": "code",
   "execution_count": null,
   "id": "5702df26-922a-49c3-bb24-7321475490d3",
   "metadata": {},
   "outputs": [],
   "source": []
  }
 ],
 "metadata": {
  "kernelspec": {
   "display_name": "Python 3 (ipykernel)",
   "language": "python",
   "name": "python3"
  },
  "language_info": {
   "codemirror_mode": {
    "name": "ipython",
    "version": 3
   },
   "file_extension": ".py",
   "mimetype": "text/x-python",
   "name": "python",
   "nbconvert_exporter": "python",
   "pygments_lexer": "ipython3",
   "version": "3.12.2"
  }
 },
 "nbformat": 4,
 "nbformat_minor": 5
}
